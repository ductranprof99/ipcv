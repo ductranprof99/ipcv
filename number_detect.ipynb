{
 "cells": [
  {
   "cell_type": "code",
   "execution_count": 1,
   "metadata": {},
   "outputs": [],
   "source": [
    "import numpy as np\n",
    "import cv2\n",
    "import matplotlib.pyplot as plt\n",
    "from matplotlib.colors import NoNorm\n",
    "import math"
   ]
  },
  {
   "cell_type": "code",
   "execution_count": 2,
   "metadata": {},
   "outputs": [],
   "source": [
    "def show_image(image, title=\"sample\", figsize=(8,6), tickoff=False):\n",
    "  plt.figure(figsize=figsize)\n",
    "  if image.ndim == 2:\n",
    "      plt.imshow(image, cmap=\"gray\", norm=NoNorm())\n",
    "  else:\n",
    "      plt.imshow(image)\n",
    "  plt.title(title)\n",
    "  plt.show()\n",
    "\n",
    "def show_double_image(image1,image2, title=\"Sample\",figsize=(8,6)):\n",
    "  fig, (ax1, ax2) = plt.subplots(1, 2,figsize=figsize)\n",
    "  fig.suptitle(title)\n",
    "  ax1.imshow(image1,cmap=\"gray\", norm=NoNorm())\n",
    "  ax2.imshow(image2,cmap=\"gray\", norm=NoNorm())"
   ]
  },
  {
   "cell_type": "code",
   "execution_count": 3,
   "metadata": {},
   "outputs": [],
   "source": [
    "# using the same trick as in the previous example\n",
    "def return_contour(img):\n",
    "    # convert to gray scale\n",
    "    gray = cv2.cvtColor(img, cv2.COLOR_BGR2GRAY)\n",
    "    # apply threshold\n",
    "    ret, thresh = cv2.threshold(gray, 0, 255, cv2.THRESH_BINARY_INV + cv2.THRESH_OTSU)\n",
    "    # show_image(thresh)\n",
    "    # find contours\n",
    "    contours, hierarchy = cv2.findContours(thresh, cv2.RETR_EXTERNAL, cv2.CHAIN_APPROX_SIMPLE)\n",
    "    # sort contours\n",
    "    # contours = sorted(contours, key=cv2.contourArea, reverse=True)\n",
    "    return thresh,contours\n",
    "    \n",
    "\n",
    "def get_number_by_countour(thres,contours):\n",
    "    # show every digit\n",
    "    result = []\n",
    "    for cnt in contours[::-1]:\n",
    "        x, y, w, h = cv2.boundingRect(cnt)\n",
    "        digit = thres[y:y + h, x:x + w]\n",
    "        result.append(digit)\n",
    "    return result\n",
    "        \n",
    "    # for cnt in co\n",
    "    # x, y, w, h = cv2.boundingRect(contour)\n",
    "    # digit = thres[y:y + h, x:x + w]\n",
    "    # return digit"
   ]
  },
  {
   "cell_type": "code",
   "execution_count": 9,
   "metadata": {},
   "outputs": [
    {
     "name": "stdout",
     "output_type": "stream",
     "text": [
      "[  0 232 353 661 782]\n",
      "[  0  35  66  94 122 150 178 206 234 262 290 318 346 374 402 430 458]\n"
     ]
    },
    {
     "data": {
      "image/png": "[encoded data removed]",
      "text/plain": [
       "<Figure size 576x432 with 1 Axes>"
      ]
     },
     "metadata": {
      "needs_background": "light"
     },
     "output_type": "display_data"
    },
    {
     "data": {
      "image/png": "[encoded data removed]",
      "text/plain": [
       "<Figure size 576x432 with 1 Axes>"
      ]
     },
     "metadata": {
      "needs_background": "light"
     },
     "output_type": "display_data"
    },
    {
     "data": {
      "image/png": "[encoded data removed]",
      "text/plain": [
       "<Figure size 576x432 with 1 Axes>"
      ]
     },
     "metadata": {
      "needs_background": "light"
     },
     "output_type": "display_data"
    },
    {
     "data": {
      "image/png": "[encoded data removed]",
      "text/plain": [
       "<Figure size 576x432 with 1 Axes>"
      ]
     },
     "metadata": {
      "needs_background": "light"
     },
     "output_type": "display_data"
    },
    {
     "data": {
      "image/png": "[encoded data removed]",
      "text/plain": [
       "<Figure size 576x432 with 1 Axes>"
      ]
     },
     "metadata": {
      "needs_background": "light"
     },
     "output_type": "display_data"
    }
   ],
   "source": [
    "origin =cv2.imread('./images/bangdiem.png', cv2.IMREAD_COLOR)\n",
    "grayed = cv2.cvtColor(origin, cv2.COLOR_BGR2GRAY)\n",
    "# grayed =rgb2gray(highlighted_image)\n",
    "# configure mask\n",
    "grayed[grayed <= 250] = 1\n",
    "grayed[grayed > 250] = 0\n",
    "# show_image(grayed, \"gray\")\n",
    "\n",
    "\n",
    "sum_col = np.sum(grayed, axis=0)\n",
    "sum_row = np.sum(grayed, axis=1)\n",
    "# cot thi phan loai hoi kho\n",
    "col_index = np.where(sum_col > 0.92 * sum_col.max())[0]\n",
    "row_index = np.where(sum_row > 0.9 * sum_row.max())[0]\n",
    "print(col_index)\n",
    "print(row_index)\n",
    "example_crop = origin[row_index[2]:row_index[3], col_index[0]:col_index[1]]\n",
    "show_image(example_crop, \"example crop\")\n",
    "result = return_contour(example_crop)\n",
    "digits = get_number_by_countour(result[0], result[1])[1:-1:]\n",
    "for i in digits:\n",
    "    i[i <= 250] = 1\n",
    "    i[i > 250] = 0\n",
    "    show_image(i*255, \"digit\")    "
   ]
  },
  {
   "cell_type": "markdown",
   "metadata": {},
   "source": [
    "TIME TO BRING THE BIG GUN "
   ]
  },
  {
   "cell_type": "code",
   "execution_count": null,
   "metadata": {},
   "outputs": [],
   "source": [
    "import pytesseract\n",
    "\n",
    "def increase_tesseract(img):\n",
    "      img = cv2.resize(img, None, fx=1.2, fy=1.2, interpolation=cv2.INTER_CUBIC)\n",
    "      kernel = np.ones((1, 1), np.uint8)\n",
    "      img = cv2.dilate(img, kernel, iterations=1)\n",
    "      img = cv2.erode(img, kernel, iterations=1)\n",
    "      img = cv2.threshold(cv2.GaussianBlur(img, (15, 15), 0), 0, 255, cv2.THRESH_BINARY + cv2.THRESH_OTSU)[1]\n",
    "      img = cv2.threshold(cv2.bilateralFilter(img, 5, 75, 75), 0, 255, cv2.THRESH_BINARY + cv2.THRESH_OTSU)[1]\n",
    "      img = cv2.threshold(cv2.medianBlur(img, 3), 0, 255, cv2.THRESH_BINARY + cv2.THRESH_OTSU)[1]\n",
    "      img = cv2.adaptiveThreshold(cv2.GaussianBlur(img, (5, 5), 0), 255, cv2.ADAPTIVE_THRESH_GAUSSIAN_C, cv2.THRESH_BINARY, 31, 2)\n",
    "      img = cv2.adaptiveThreshold(cv2.bilateralFilter(img, 9, 75, 75), 255, cv2.ADAPTIVE_THRESH_GAUSSIAN_C, cv2.THRESH_BINARY, 31, 2)\n",
    "      img = cv2.adaptiveThreshold(cv2.medianBlur(img, 3), 255, cv2.ADAPTIVE_THRESH_GAUSSIAN_C, cv2.THRESH_BINARY, 31, 2)\n",
    "      return img\n",
    "\n",
    "for i in range(0,count):\n",
    "    # Apply OCR on the cropped image\n",
    "    aha = np.array(cv2.imread('./digits'+str(i)+'.jpg'))\n",
    "    scale_percent = 900\n",
    "    width = int(aha.shape[1] * scale_percent / 100)\n",
    "    height = int(aha.shape[0] * scale_percent / 100)\n",
    "    dim = (width, height)\n",
    "    resized = cv2.resize(aha, dim, interpolation = cv2.INTER_AREA)\n",
    "    padsize = 40\n",
    "    resized = np.pad(resized, pad_width=[(padsize, padsize),(padsize, padsize),(0, 0)], mode='constant', constant_values=[(255,255),(255,255),(255,255)])\n",
    "    resized = cv2.cvtColor(resized,cv2.COLOR_BGR2GRAY)\n",
    "    resized = increase_tesseract(resized)\n",
    "    text = pytesseract.image_to_string(resized,config=\"--psm 6 digits\")[0]\n",
    "    print(text)\n",
    "    show_image(resized, text)\n",
    "\n"
   ]
  }
 ],
 "metadata": {
  "interpreter": {
   "hash": "03d82d7c0efa7c8ef005eb1d6db87b3a7c593a264ad81d6d0b085b0f8b79b8f2"
  },
  "kernelspec": {
   "display_name": "Python 3.9.8 64-bit (windows store)",
   "language": "python",
   "name": "python3"
  },
  "language_info": {
   "codemirror_mode": {
    "name": "ipython",
    "version": 3
   },
   "file_extension": ".py",
   "mimetype": "text/x-python",
   "name": "python",
   "nbconvert_exporter": "python",
   "pygments_lexer": "ipython3",
   "version": "3.9.9"
  },
  "orig_nbformat": 4
 },
 "nbformat": 4,
 "nbformat_minor": 2
}
