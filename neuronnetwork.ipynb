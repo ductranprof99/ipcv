{
 "cells": [
  {
   "cell_type": "code",
   "execution_count": 136,
   "source": [
    "import numpy as np\r\n",
    "horizon_ones = np.ones(shape=(1,4))\r\n",
    "J = 0\r\n",
    "m = 4\r\n",
    "n = 2\r\n",
    "db = 0\r\n",
    "dw = np.zeros(shape=(2,1))\r\n",
    "w = np.array([1,2]).astype(np.uint).reshape(1,2) # matran 1,2  (matran 1*n)\r\n",
    "x = np.array([[3,4],[7,9],[4,2],[8,8]])  # matran 4,2 ( matran m*n)\r\n",
    "y = np.array([1,1,0,1]).astype(np.uint)  # matran 1,4 (ma tran 1*m)\r\n",
    "z = np.dot(w,x.T)  # transform x ve n*m sau do nhan 2 matran (1*n)*(n*m)\r\n",
    "a = (1/(horizon_ones+np.exp(-z)))  # matran 1*m\r\n",
    "dz = (y - a)  # ket qua cua matran 1*m - 1* m la ma tran 1*m\r\n",
    "J = -(y*np.log(a) + (horizon_ones-y)*np.log(horizon_ones-a))\r\n",
    "print(np.sum(J))\r\n",
    "dw_result = np.sum((x*dz.repeat(2).reshape(4,2)).T,axis=1).reshape(2,1)    # dz nhan doi, reshape ve ma tran m*n, sau do nhan hadamard voi x (matran m*n) tra ve ma tran m*n\r\n",
    "# lay matran m*n vua tim duoc tinh tong tren tung hang (aka tung m) -> tra ve matran 1*n -> trans form ve ma tran dw n*1 ban dau\r\n",
    "db = np.sum(dz)/m\r\n",
    "dw+=(dw_result/m)\r\n",
    "print(dw)\r\n",
    "\r\n"
   ],
   "outputs": [
    {
     "output_type": "stream",
     "name": "stdout",
     "text": [
      "8.000352107986169\n",
      "[[-0.99965212]\n",
      " [-0.49981562]]\n"
     ]
    }
   ],
   "metadata": {}
  },
  {
   "cell_type": "code",
   "execution_count": 115,
   "source": [
    "J = 0\r\n",
    "m = 4\r\n",
    "n = 2\r\n",
    "db = 0\r\n",
    "dw = np.zeros(shape=(2,1))\r\n",
    "w = np.array([1,2]).astype(np.uint).reshape(1,2) # matran 1,2  (matran 1*n)\r\n",
    "x = np.array([[3,4],[7,9],[4,2],[8,8]])  # matran 4,2 ( matran m*n)\r\n",
    "y = np.array([1,1,0,1]).astype(np.uint)\r\n",
    "\r\n",
    "for i in range(0,m):\r\n",
    "    z = np.dot(w,x[i])\r\n",
    "    a = (1/(1+np.exp(-z)))\r\n",
    "    dz = - a + y[i]\r\n",
    "    print(dz)\r\n",
    "    for j in range(0,2):\r\n",
    "        dw[j] += x[i][j]*dz[0]\r\n",
    "    db += dz\r\n",
    "db = db/m\r\n",
    "dw /= m\r\n",
    "print(dw)"
   ],
   "outputs": [
    {
     "output_type": "stream",
     "name": "stdout",
     "text": [
      "[1.67014218e-05]\n",
      "[1.38880019e-11]\n",
      "[-0.99966465]\n",
      "[3.77513576e-11]\n",
      "[[-0.99965212]\n",
      " [-0.49981562]]\n"
     ]
    }
   ],
   "metadata": {}
  }
 ],
 "metadata": {
  "orig_nbformat": 4,
  "language_info": {
   "name": "python",
   "version": "3.9.7",
   "mimetype": "text/x-python",
   "codemirror_mode": {
    "name": "ipython",
    "version": 3
   },
   "pygments_lexer": "ipython3",
   "nbconvert_exporter": "python",
   "file_extension": ".py"
  },
  "kernelspec": {
   "name": "python3",
   "display_name": "Python 3.9.7 64-bit (windows store)"
  },
  "interpreter": {
   "hash": "03d82d7c0efa7c8ef005eb1d6db87b3a7c593a264ad81d6d0b085b0f8b79b8f2"
  }
 },
 "nbformat": 4,
 "nbformat_minor": 2
}