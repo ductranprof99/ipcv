{
 "cells": [
  {
   "cell_type": "code",
   "execution_count": 1,
   "metadata": {},
   "outputs": [
    {
     "name": "stdout",
     "output_type": "stream",
     "text": [
      "8.000352107986169\n",
      "[[-0.99965212]\n",
      " [-0.49981562]]\n"
     ]
    }
   ],
   "source": [
    "import numpy as np\n",
    "horizon_ones = np.ones(shape=(1,4))\n",
    "J = 0\n",
    "m = 4\n",
    "n = 2\n",
    "db = 0\n",
    "dw = np.zeros(shape=(2,1))\n",
    "w = np.array([1,2]).astype(np.uint).reshape(1,2) # matran 1,2  (matran 1*n)\n",
    "x = np.array([[3,4],[7,9],[4,2],[8,8]])  # matran 4,2 ( matran m*n)\n",
    "y = np.array([1,1,0,1]).astype(np.uint)  # matran 1,4 (ma tran 1*m)\n",
    "z = np.dot(w,x.T)  # transform x ve n*m sau do nhan 2 matran (1*n)*(n*m)\n",
    "a = (1/(horizon_ones+np.exp(-z)))  # matran 1*m\n",
    "dz = (y - a)  # ket qua cua matran 1*m - 1* m la ma tran 1*m\n",
    "J = -(y*np.log(a) + (horizon_ones-y)*np.log(horizon_ones-a))\n",
    "print(np.sum(J))\n",
    "dw_result = np.sum((x*dz.repeat(2).reshape(4,2)).T,axis=1).reshape(2,1)    # dz nhan doi, reshape ve ma tran m*n, sau do nhan hadamard voi x (matran m*n) tra ve ma tran m*n\n",
    "# lay matran m*n vua tim duoc tinh tong tren tung hang (aka tung m) -> tra ve matran 1*n -> trans form ve ma tran dw n*1 ban dau\n",
    "db = np.sum(dz)/m\n",
    "dw+=(dw_result/m)\n",
    "print(dw)\n",
    "\n"
   ]
  },
  {
   "cell_type": "code",
   "execution_count": 115,
   "metadata": {},
   "outputs": [
    {
     "name": "stdout",
     "output_type": "stream",
     "text": [
      "[1.67014218e-05]\n",
      "[1.38880019e-11]\n",
      "[-0.99966465]\n",
      "[3.77513576e-11]\n",
      "[[-0.99965212]\n",
      " [-0.49981562]]\n"
     ]
    }
   ],
   "source": [
    "J = 0\n",
    "m = 4\n",
    "n = 2\n",
    "db = 0\n",
    "dw = np.zeros(shape=(2,1))\n",
    "w = np.array([1,2]).astype(np.uint).reshape(1,2) # matran 1,2  (matran 1*n)\n",
    "x = np.array([[3,4],[7,9],[4,2],[8,8]])  # matran 4,2 ( matran m*n)\n",
    "y = np.array([1,1,0,1]).astype(np.uint)\n",
    "\n",
    "for i in range(0,m):\n",
    "    z = np.dot(w,x[i])\n",
    "    a = (1/(1+np.exp(-z)))\n",
    "    dz = - a + y[i]\n",
    "    print(dz)\n",
    "    for j in range(0,2):\n",
    "        dw[j] += x[i][j]*dz[0]\n",
    "    db += dz\n",
    "db = db/m\n",
    "dw /= m\n",
    "print(dw)"
   ]
  },
  {
   "cell_type": "code",
   "execution_count": 5,
   "metadata": {},
   "outputs": [
    {
     "data": {
      "text/plain": [
       "array([[1],\n",
       "       [2],\n",
       "       [3],\n",
       "       [4]])"
      ]
     },
     "execution_count": 5,
     "metadata": {},
     "output_type": "execute_result"
    }
   ],
   "source": [
    "a =[1,2,3,4]\n",
    "a = np.array(a)\n",
    "a.reshape(4,1)"
   ]
  },
  {
   "cell_type": "code",
   "execution_count": 5,
   "metadata": {},
   "outputs": [
    {
     "data": {
      "text/plain": [
       "(1, 3)"
      ]
     },
     "execution_count": 5,
     "metadata": {},
     "output_type": "execute_result"
    }
   ],
   "source": [
    "A = np.random.randn(4,3)\n",
    "B = np.sum(A, axis = 0, keepdims = True) \n",
    "B.shape"
   ]
  }
 ],
 "metadata": {
  "interpreter": {
   "hash": "03d82d7c0efa7c8ef005eb1d6db87b3a7c593a264ad81d6d0b085b0f8b79b8f2"
  },
  "kernelspec": {
   "display_name": "Python 3.9.7 64-bit (windows store)",
   "name": "python3"
  },
  "language_info": {
   "codemirror_mode": {
    "name": "ipython",
    "version": 3
   },
   "file_extension": ".py",
   "mimetype": "text/x-python",
   "name": "python",
   "nbconvert_exporter": "python",
   "pygments_lexer": "ipython3",
   "version": "3.9.7"
  },
  "orig_nbformat": 4
 },
 "nbformat": 4,
 "nbformat_minor": 2
}
