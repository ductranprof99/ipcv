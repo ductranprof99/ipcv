{
 "cells": [
  {
   "cell_type": "code",
   "execution_count": 7,
   "source": [
    "def compose(f,g):\r\n",
    "   return lambda x:f(g(x))\r\n",
    "   \r\n",
    "\r\n",
    "def square(x):\r\n",
    "   return x * x\r\n",
    "\r\n",
    "def increase(x):\r\n",
    "   return x + 1\r\n",
    "\r\n",
    "def double(x):\r\n",
    "   return x * 2\r\n",
    "\r\n",
    "m = compose(square,increase)\r\n",
    "print(m(5))\r\n",
    "m = compose(double,compose(increase,square))\r\n",
    "print(m(5)) # Kết quả là 52 do (5 * 5 + 1) * 2\r\n",
    "\r\n",
    "\r\n"
   ],
   "outputs": [
    {
     "output_type": "stream",
     "name": "stdout",
     "text": [
      "36\n",
      "52\n"
     ]
    }
   ],
   "metadata": {}
  },
  {
   "cell_type": "code",
   "execution_count": 8,
   "source": [
    "def f(x):\r\n",
    "\r\n",
    "   def g(y):\r\n",
    "\r\n",
    "      return y**x\r\n",
    "\r\n",
    "   return g\r\n",
    "\r\n",
    "square = f(2)\r\n",
    "\r\n",
    "print(square(3)) # kết quả là 9\r\n",
    "\r\n",
    "cube = f(3)\r\n",
    "\r\n",
    "print(cube(2)) # kết quả là 8"
   ],
   "outputs": [
    {
     "output_type": "stream",
     "name": "stdout",
     "text": [
      "9\n",
      "8\n"
     ]
    }
   ],
   "metadata": {}
  },
  {
   "cell_type": "code",
   "execution_count": 9,
   "source": [
    "from functools import reduce\r\n",
    "def compose(*g):\r\n",
    "   def h(args):\r\n",
    "      return reduce(lambda x,y: y(x),reversed(g),args)\r\n",
    "   return h\r\n",
    "\r\n",
    "def square(x):\r\n",
    "   return x * x\r\n",
    "\r\n",
    "def increase(x):\r\n",
    "   return x + 1\r\n",
    "\r\n",
    "def double(x):\r\n",
    "   return x * 2\r\n",
    "\r\n",
    "m = compose(square,increase,double)\r\n",
    "print(m(5))"
   ],
   "outputs": [
    {
     "output_type": "stream",
     "name": "stdout",
     "text": [
      "121\n"
     ]
    }
   ],
   "metadata": {}
  },
  {
   "cell_type": "code",
   "execution_count": 10,
   "source": [
    "def f(x):\r\n",
    "\r\n",
    "    return lambda y:y**x\r\n",
    " \r\n",
    "\r\n",
    "square = f(2)\r\n",
    "\r\n",
    "print(square(3)) # kết quả là 9\r\n",
    "\r\n",
    "cube = f(3)\r\n",
    "\r\n",
    "print(cube(2)) # kết quả là 8"
   ],
   "outputs": [
    {
     "output_type": "stream",
     "name": "stdout",
     "text": [
      "9\n",
      "8\n"
     ]
    }
   ],
   "metadata": {}
  },
  {
   "cell_type": "code",
   "execution_count": 11,
   "source": [
    "def lessThan(a:list,b:int):\r\n",
    "    # return [x for x in a if x < b]\r\n",
    "    return list(filter(lambda x,d=b: x < d , a))\r\n",
    "\r\n",
    "def lstSquare(a:int):\r\n",
    "    # return [x**2 for x in range(1,a+1)]\r\n",
    "    if(a == 1): return [1]\r\n",
    "    else: \r\n",
    "        k = lstSquare(a-1)\r\n",
    "        k.append(a**2)\r\n",
    "        return k\r\n",
    "def flatten(a):\r\n",
    "    if (a == []): return []\r\n",
    "    # return a[0]+ flatten(a[1::1])\r\n",
    "    from functools import reduce\r\n",
    "    return reduce(lambda x,y: x+y,a)\r\n",
    "\r\n",
    "def dist(a,b):\r\n",
    "    # if (a == []): return []\r\n",
    "    # return [(a[0],b)]+ dist(a[1::1],b)\r\n",
    "    return list(map(lambda x,d=b:(x,d),a))\r\n",
    "lessThan([1,2,3,4,5],4)\r\n",
    "# lstSquare(3)\r\n",
    "flatten([[1,2,3],[4,5],[6,7]])\r\n",
    "# dist([1,2,3],4)\r\n",
    "\r\n",
    "def powGen(x):\r\n",
    "    def inner(y):\r\n",
    "        return y**x\r\n",
    "    return inner\r\n",
    "\t\r\n",
    "cube = powGen(3)\r\n",
    "print(cube(2))\r\n",
    "\r\n",
    "\r\n"
   ],
   "outputs": [
    {
     "output_type": "stream",
     "name": "stdout",
     "text": [
      "8\n"
     ]
    }
   ],
   "metadata": {}
  },
  {
   "cell_type": "code",
   "execution_count": 18,
   "source": [
    "class Eval: \r\n",
    "    def visit(self,ctx):\r\n",
    "        return ctx.accept(self)\r\n",
    "    def visitIntLit(self,ctx):\r\n",
    "        return ctx.value\r\n",
    "    def visitFloatLit(self,ctx):\r\n",
    "        return ctx.value\r\n",
    "    def visitBinExp(self,ctx):\r\n",
    "        lctx = self.visit(ctx.left)\r\n",
    "        rctx = self.visit(ctx.right)\r\n",
    "        if ctx.op == '+':\r\n",
    "            return lctx + rctx\r\n",
    "        elif ctx.op == '-':\r\n",
    "            return lctx - rctx\r\n",
    "        elif ctx.op == '*':\r\n",
    "            return lctx * rctx\r\n",
    "        else:\r\n",
    "            return lctx / rctx\r\n",
    "    def visitUnExp(self,ctx):\r\n",
    "        e = self.visit(ctx.operand)\r\n",
    "        return -e if ctx.op == '-' else e\r\n",
    "class PrintPrefix:\r\n",
    "    def visit(self,ctx):\r\n",
    "        return ctx.accept(self)\r\n",
    "    def visitIntLit(self,ctx):\r\n",
    "        return str(ctx.value)\r\n",
    "    def visitFloatLit(self,ctx):\r\n",
    "        return str(ctx.value)\r\n",
    "    def visitBinExp(self,ctx):\r\n",
    "        left = self.visit(ctx.left)\r\n",
    "        right = self.visit(ctx.right)\r\n",
    "        if ctx.op == '+':\r\n",
    "            return '+ ' + left + ' ' + right\r\n",
    "        elif ctx.op == '-':\r\n",
    "            return '- ' + left + ' ' + right\r\n",
    "        elif ctx.op == '*':\r\n",
    "            return '* ' + left + ' ' + right\r\n",
    "        else:\r\n",
    "            return '/ ' + left + ' ' + right\r\n",
    "    def visitUnExp(self,ctx):\r\n",
    "        e = self.visit(ctx.operand)\r\n",
    "        return '-. ' + e if ctx.op == '-' else '+. ' + e\r\n",
    "class PrintPostfix: \r\n",
    "    def visit(self,ctx):\r\n",
    "        return ctx.accept(self)\r\n",
    "    def visitIntLit(self,ctx):\r\n",
    "        return str(ctx.value)\r\n",
    "    def visitFloatLit(self,ctx):\r\n",
    "        return str(ctx.value)\r\n",
    "    def visitBinExp(self,ctx):\r\n",
    "        left = self.visit(ctx.left)\r\n",
    "        right = self.visit(ctx.right)\r\n",
    "        if ctx.op == '+':\r\n",
    "            return left + ' ' + right + ' +'\r\n",
    "        elif ctx.op == '-':\r\n",
    "            return left + ' ' + right + ' -'\r\n",
    "        elif ctx.op == '*':\r\n",
    "            return left + ' ' + right + ' *'\r\n",
    "        else:\r\n",
    "            return left + ' ' + right + ' /'\r\n",
    "    def visitUnExp(self,ctx):\r\n",
    "        e = self.visit(ctx.operand)\r\n",
    "        return e + ' -.' if ctx.op == '-' else  e + ' +. '\r\n",
    "from abc import ABC\r\n",
    "class Exp(ABC):pass\r\n",
    "class BinExp(Exp):\r\n",
    "    def __init__(self,o1,op,o2):\r\n",
    "        self.left = o1\r\n",
    "        self.op = op\r\n",
    "        self.right = o2\r\n",
    "    def accept(self,v): return v.visitBinExp(self)\r\n",
    "class UnExp(Exp): \r\n",
    "    def __init__(self,op,o1):\r\n",
    "        self.op = op\r\n",
    "        self.operand = o1\r\n",
    "    def accept(self,v): return v.visitUnExp(self)\r\n",
    "class IntLit(Exp):\r\n",
    "    def __init__(self,v):\r\n",
    "        self.value = v\r\n",
    "    def accept(self,v): return v.visitIntLit(self)\r\n",
    "class FloatLit(Exp):\r\n",
    "    def __init__(self,v):\r\n",
    "        self.value = v\r\n",
    "    def accept(self,v): return v.visitFloatLit(self)"
   ],
   "outputs": [],
   "metadata": {}
  },
  {
   "cell_type": "code",
   "execution_count": null,
   "source": [
    "from functools import reduce\r\n",
    "class ASTGeneration(MPVisitor):\r\n",
    "    def visitProgram(self,ctx:MPParser.ProgramContext):\r\n",
    "        return self.visit(ctx.exp())\r\n",
    "\r\n",
    "    def visitExp(self,ctx:MPParser.ExpContext):\r\n",
    "        if ctx.getChildCount() == 1:\r\n",
    "            return self.visit(ctx.term())\r\n",
    "        return Binary(reduce(lambda acc,ele: Binary(':=',self.visit(ele),acc),ctx.term()[-2::-1],self.visit(ctx.term()[-1]))) \r\n",
    "\r\n",
    "    def visitTerm(self,ctx:MPParser.TermContext): \r\n",
    "        if ctx.getChildCount() == 3:\r\n",
    "            return Binary(ctx.COMPARE().getText(),self.visit(ctx.factor()[0]),self.visit(ctx.factor()[1]))\r\n",
    "        return self.visit(ctx.factor()[0])\r\n",
    "\r\n",
    "    def visitFactor(self,ctx:MPParser.FactorContext):\r\n",
    "        if ctx.getChildCount() == 1:\r\n",
    "            return self.visit(ctx.operand()[0])\r\n",
    "        return Binary(reduce(lambda acc,ele: Binary(ctx.ANDOR()[0].getText(),self.visit(ele),acc),ctx.operand()[-2::-1],self.visit(ctx.operand()[-1])))\r\n",
    "\r\n",
    "    def visitOperand(self,ctx:MPParser.OperandContext):\r\n",
    "        if ctx.getChildCount() == 3:\r\n",
    "            return self.visit(ctx.exp())\r\n",
    "        elif ctx.INTLIT(): \r\n",
    "            return IntLiteral(int(ctx.INTLIT().getText()))\r\n",
    "        elif ctx.BOOLIT(): \r\n",
    "            return BooleanLiteral(bool(ctx.BOOLIT().getText()))\r\n",
    "        else: return Id(ctx.ID().getText())"
   ],
   "outputs": [],
   "metadata": {}
  },
  {
   "cell_type": "code",
   "execution_count": 15,
   "source": [
    "x1 = IntLit(1)\r\n",
    "x2 = FloatLit(2.0)\r\n",
    "x3 = BinExp(x1,\"+\",x1)\r\n",
    "x4 = UnExp(\"-\",x1)\r\n",
    "x5 = BinExp(x4,\"+\",BinExp(IntLit(4),\"*\",x2))"
   ],
   "outputs": [],
   "metadata": {}
  },
  {
   "cell_type": "code",
   "execution_count": 19,
   "source": [
    "v1 = Eval()\r\n",
    "v2 = PrintPrefix()\r\n",
    "v3 = PrintPostfix()\r\n",
    "print(v3.visit(x5))\r\n",
    "print(v2.visit(x1))\r\n",
    "x5.accept(v2)"
   ],
   "outputs": [
    {
     "output_type": "stream",
     "name": "stdout",
     "text": [
      "1 -. 4 2.0 * +\n",
      "1\n"
     ]
    },
    {
     "output_type": "execute_result",
     "data": {
      "text/plain": [
       "'+ -. 1 * 4 2.0'"
      ]
     },
     "metadata": {},
     "execution_count": 19
    }
   ],
   "metadata": {}
  }
 ],
 "metadata": {
  "orig_nbformat": 4,
  "language_info": {
   "name": "python",
   "version": "3.9.7",
   "mimetype": "text/x-python",
   "codemirror_mode": {
    "name": "ipython",
    "version": 3
   },
   "pygments_lexer": "ipython3",
   "nbconvert_exporter": "python",
   "file_extension": ".py"
  },
  "kernelspec": {
   "name": "python3",
   "display_name": "Python 3.9.7 64-bit (windows store)"
  },
  "interpreter": {
   "hash": "03d82d7c0efa7c8ef005eb1d6db87b3a7c593a264ad81d6d0b085b0f8b79b8f2"
  }
 },
 "nbformat": 4,
 "nbformat_minor": 2
}